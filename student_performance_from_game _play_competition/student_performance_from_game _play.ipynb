{
 "cells": [
  {
   "cell_type": "markdown",
   "id": "42f38670",
   "metadata": {
    "papermill": {
     "duration": 0.010498,
     "end_time": "2023-06-29T09:33:44.115511",
     "exception": false,
     "start_time": "2023-06-29T09:33:44.105013",
     "status": "completed"
    },
    "tags": []
   },
   "source": [
    "![jo_wilder](https://content.pbswisconsineducation.org/wp-content/uploads/2021/06/26141330/jw-playthegame-howtoplay-1.jpg)"
   ]
  },
  {
   "cell_type": "markdown",
   "id": "a3086a71",
   "metadata": {
    "papermill": {
     "duration": 0.008948,
     "end_time": "2023-06-29T09:33:44.133702",
     "exception": false,
     "start_time": "2023-06-29T09:33:44.124754",
     "status": "completed"
    },
    "tags": []
   },
   "source": [
    "# Jo Wilder Educational Game  \n",
    "### Aalf solution (240 private place from 2100 teams)."
   ]
  },
  {
   "cell_type": "markdown",
   "id": "3ce3e4ac",
   "metadata": {
    "papermill": {
     "duration": 0.008985,
     "end_time": "2023-06-29T09:33:44.151709",
     "exception": false,
     "start_time": "2023-06-29T09:33:44.142724",
     "status": "completed"
    },
    "tags": []
   },
   "source": [
    "Special thanks to CHRIS DEOTTE and VADIM KAMAEV for these notebooks:  \n",
    "\n",
    "https://www.kaggle.com/code/cdeotte/game-room-click-eda\n",
    "\n",
    "https://www.kaggle.com/code/vadimkamaev/catboost-new/notebook"
   ]
  },
  {
   "cell_type": "code",
   "execution_count": 1,
   "id": "e3750604",
   "metadata": {
    "execution": {
     "iopub.execute_input": "2023-06-29T09:33:44.171775Z",
     "iopub.status.busy": "2023-06-29T09:33:44.171026Z",
     "iopub.status.idle": "2023-06-29T09:33:45.625146Z",
     "shell.execute_reply": "2023-06-29T09:33:45.624317Z"
    },
    "papermill": {
     "duration": 1.467196,
     "end_time": "2023-06-29T09:33:45.627890",
     "exception": false,
     "start_time": "2023-06-29T09:33:44.160694",
     "status": "completed"
    },
    "tags": []
   },
   "outputs": [],
   "source": [
    "import pandas as pd, numpy as np\n",
    "from catboost import CatBoostClassifier\n",
    "from xgboost import XGBClassifier\n",
    "import pickle\n",
    "import sys"
   ]
  },
  {
   "cell_type": "markdown",
   "id": "7b0910f0",
   "metadata": {
    "papermill": {
     "duration": 0.009018,
     "end_time": "2023-06-29T09:33:45.646338",
     "exception": false,
     "start_time": "2023-06-29T09:33:45.637320",
     "status": "completed"
    },
    "tags": []
   },
   "source": [
    "## Load Train Data and Labels"
   ]
  },
  {
   "cell_type": "markdown",
   "id": "46a51e6e",
   "metadata": {
    "papermill": {
     "duration": 0.008823,
     "end_time": "2023-06-29T09:33:45.664590",
     "exception": false,
     "start_time": "2023-06-29T09:33:45.655767",
     "status": "completed"
    },
    "tags": []
   },
   "source": [
    "We change the data types to be less memory-intensive, as we have a limitation of 8GB RAM."
   ]
  },
  {
   "cell_type": "code",
   "execution_count": 2,
   "id": "58b8f9cc",
   "metadata": {
    "execution": {
     "iopub.execute_input": "2023-06-29T09:33:45.685103Z",
     "iopub.status.busy": "2023-06-29T09:33:45.684404Z",
     "iopub.status.idle": "2023-06-29T09:33:45.691315Z",
     "shell.execute_reply": "2023-06-29T09:33:45.690565Z"
    },
    "papermill": {
     "duration": 0.019502,
     "end_time": "2023-06-29T09:33:45.693465",
     "exception": false,
     "start_time": "2023-06-29T09:33:45.673963",
     "status": "completed"
    },
    "tags": []
   },
   "outputs": [],
   "source": [
    "dtypes = {\"session_id\": 'int64',\n",
    "          \"index\": np.int16,\n",
    "          \"elapsed_time\": np.int32,\n",
    "          \"event_name\": 'category',\n",
    "          \"name\": 'category',\n",
    "          \"level\": np.int8,\n",
    "          \"page\": np.float16,\n",
    "          \"room_coor_x\": np.float16,\n",
    "          \"room_coor_y\": np.float16,\n",
    "          \"screen_coor_x\": np.float16,\n",
    "          \"screen_coor_y\": np.float16,\n",
    "          \"hover_duration\": np.float32,\n",
    "          \"text\": 'category',\n",
    "          \"fqid\": 'category',\n",
    "          \"room_fqid\": 'category',\n",
    "          \"text_fqid\": 'category',\n",
    "          \"fullscreen\": np.int8,\n",
    "          \"hq\": np.int8,\n",
    "          \"music\": np.int8,\n",
    "          \"level_group\": 'category'\n",
    "          }\n",
    "use_col = ['session_id', 'index', 'elapsed_time', 'event_name', 'name', 'level', 'page',\n",
    "           'room_coor_x', 'room_coor_y', 'hover_duration', 'text', 'fqid', 'room_fqid', 'text_fqid', 'level_group']"
   ]
  },
  {
   "cell_type": "markdown",
   "id": "511a02f0",
   "metadata": {
    "papermill": {
     "duration": 0.008663,
     "end_time": "2023-06-29T09:33:45.711720",
     "exception": false,
     "start_time": "2023-06-29T09:33:45.703057",
     "status": "completed"
    },
    "tags": []
   },
   "source": [
    "Reading labels for the target and retrieving preprocessed and prepared features from PyCharm."
   ]
  },
  {
   "cell_type": "code",
   "execution_count": 3,
   "id": "7e73855f",
   "metadata": {
    "execution": {
     "iopub.execute_input": "2023-06-29T09:33:45.730710Z",
     "iopub.status.busy": "2023-06-29T09:33:45.730324Z",
     "iopub.status.idle": "2023-06-29T09:33:46.891136Z",
     "shell.execute_reply": "2023-06-29T09:33:46.890360Z"
    },
    "papermill": {
     "duration": 1.174966,
     "end_time": "2023-06-29T09:33:46.895536",
     "exception": false,
     "start_time": "2023-06-29T09:33:45.720570",
     "status": "completed"
    },
    "tags": []
   },
   "outputs": [
    {
     "name": "stdout",
     "output_type": "stream",
     "text": [
      "(424116, 4)\n"
     ]
    },
    {
     "data": {
      "text/html": [
       "<div>\n",
       "<style scoped>\n",
       "    .dataframe tbody tr th:only-of-type {\n",
       "        vertical-align: middle;\n",
       "    }\n",
       "\n",
       "    .dataframe tbody tr th {\n",
       "        vertical-align: top;\n",
       "    }\n",
       "\n",
       "    .dataframe thead th {\n",
       "        text-align: right;\n",
       "    }\n",
       "</style>\n",
       "<table border=\"1\" class=\"dataframe\">\n",
       "  <thead>\n",
       "    <tr style=\"text-align: right;\">\n",
       "      <th></th>\n",
       "      <th>session_id</th>\n",
       "      <th>correct</th>\n",
       "      <th>session</th>\n",
       "      <th>q</th>\n",
       "    </tr>\n",
       "  </thead>\n",
       "  <tbody>\n",
       "    <tr>\n",
       "      <th>0</th>\n",
       "      <td>20090312431273200_q1</td>\n",
       "      <td>1</td>\n",
       "      <td>20090312431273200</td>\n",
       "      <td>1</td>\n",
       "    </tr>\n",
       "    <tr>\n",
       "      <th>1</th>\n",
       "      <td>20090312433251036_q1</td>\n",
       "      <td>0</td>\n",
       "      <td>20090312433251036</td>\n",
       "      <td>1</td>\n",
       "    </tr>\n",
       "    <tr>\n",
       "      <th>2</th>\n",
       "      <td>20090312455206810_q1</td>\n",
       "      <td>1</td>\n",
       "      <td>20090312455206810</td>\n",
       "      <td>1</td>\n",
       "    </tr>\n",
       "    <tr>\n",
       "      <th>3</th>\n",
       "      <td>20090313091715820_q1</td>\n",
       "      <td>0</td>\n",
       "      <td>20090313091715820</td>\n",
       "      <td>1</td>\n",
       "    </tr>\n",
       "    <tr>\n",
       "      <th>4</th>\n",
       "      <td>20090313571836404_q1</td>\n",
       "      <td>1</td>\n",
       "      <td>20090313571836404</td>\n",
       "      <td>1</td>\n",
       "    </tr>\n",
       "  </tbody>\n",
       "</table>\n",
       "</div>"
      ],
      "text/plain": [
       "             session_id  correct            session  q\n",
       "0  20090312431273200_q1        1  20090312431273200  1\n",
       "1  20090312433251036_q1        0  20090312433251036  1\n",
       "2  20090312455206810_q1        1  20090312455206810  1\n",
       "3  20090313091715820_q1        0  20090313091715820  1\n",
       "4  20090313571836404_q1        1  20090313571836404  1"
      ]
     },
     "execution_count": 3,
     "metadata": {},
     "output_type": "execute_result"
    }
   ],
   "source": [
    "targets = pd.read_csv('/kaggle/input/predict-student-performance-from-game-play/train_labels.csv')\n",
    "targets['session'] = targets.session_id.apply(lambda x: int(x.split('_')[0]) )\n",
    "targets['q'] = targets.session_id.apply(lambda x: int(x.split('_')[-1][1:]) )\n",
    "print( targets.shape )\n",
    "targets.head()"
   ]
  },
  {
   "cell_type": "code",
   "execution_count": 4,
   "id": "7822e416",
   "metadata": {
    "execution": {
     "iopub.execute_input": "2023-06-29T09:33:46.916903Z",
     "iopub.status.busy": "2023-06-29T09:33:46.916007Z",
     "iopub.status.idle": "2023-06-29T09:33:47.049985Z",
     "shell.execute_reply": "2023-06-29T09:33:47.049028Z"
    },
    "papermill": {
     "duration": 0.14734,
     "end_time": "2023-06-29T09:33:47.052536",
     "exception": false,
     "start_time": "2023-06-29T09:33:46.905196",
     "status": "completed"
    },
    "tags": []
   },
   "outputs": [],
   "source": [
    "feature_df = pd.read_csv('/kaggle/input/featur/feature_sort.csv')"
   ]
  },
  {
   "cell_type": "markdown",
   "id": "d9497159",
   "metadata": {
    "papermill": {
     "duration": 0.008825,
     "end_time": "2023-06-29T09:33:47.070919",
     "exception": false,
     "start_time": "2023-06-29T09:33:47.062094",
     "status": "completed"
    },
    "tags": []
   },
   "source": [
    "## Feature Engineer"
   ]
  },
  {
   "cell_type": "markdown",
   "id": "bb7b03ac",
   "metadata": {
    "papermill": {
     "duration": 0.008884,
     "end_time": "2023-06-29T09:33:47.089290",
     "exception": false,
     "start_time": "2023-06-29T09:33:47.080406",
     "status": "completed"
    },
    "tags": []
   },
   "source": [
    "A lot of Vadim's feature engineer"
   ]
  },
  {
   "cell_type": "code",
   "execution_count": 5,
   "id": "62dffc02",
   "metadata": {
    "execution": {
     "iopub.execute_input": "2023-06-29T09:33:47.109729Z",
     "iopub.status.busy": "2023-06-29T09:33:47.108650Z",
     "iopub.status.idle": "2023-06-29T09:33:47.114660Z",
     "shell.execute_reply": "2023-06-29T09:33:47.113897Z"
    },
    "papermill": {
     "duration": 0.018125,
     "end_time": "2023-06-29T09:33:47.116635",
     "exception": false,
     "start_time": "2023-06-29T09:33:47.098510",
     "status": "completed"
    },
    "tags": []
   },
   "outputs": [],
   "source": [
    "def delt_time_def(df):\n",
    "    df.sort_values(by=['session_id', 'elapsed_time'], inplace=True)\n",
    "    df['d_time'] = df['elapsed_time'].diff(1)\n",
    "    df['d_time'].fillna(0, inplace=True)\n",
    "    df['delt_time'] = df['d_time'].clip(0, 103000)\n",
    "    df['delt_time_next'] = df['delt_time'].shift(-1)\n",
    "    return df"
   ]
  },
  {
   "cell_type": "code",
   "execution_count": 6,
   "id": "28c26b74",
   "metadata": {
    "execution": {
     "iopub.execute_input": "2023-06-29T09:33:47.137058Z",
     "iopub.status.busy": "2023-06-29T09:33:47.136019Z",
     "iopub.status.idle": "2023-06-29T09:33:47.148080Z",
     "shell.execute_reply": "2023-06-29T09:33:47.147299Z"
    },
    "papermill": {
     "duration": 0.024377,
     "end_time": "2023-06-29T09:33:47.150275",
     "exception": false,
     "start_time": "2023-06-29T09:33:47.125898",
     "status": "completed"
    },
    "tags": []
   },
   "outputs": [],
   "source": [
    "def feature_engineer(train, kol_f):\n",
    "    global kol_col, kol_col_max\n",
    "    kol_col = 9\n",
    "    kol_col_max = 11+kol_f*2\n",
    "    col = [i for i in range(0,kol_col_max)]\n",
    "    new_train = pd.DataFrame(index=train['session_id'].unique(), columns=col, dtype=np.float16)  \n",
    "    new_train[10] = new_train.index # \"session_id\"    \n",
    "\n",
    "    new_train[0] = train.groupby(['session_id'])['d_time'].quantile(q=0.3)\n",
    "    new_train[1] = train.groupby(['session_id'])['d_time'].quantile(q=0.8)\n",
    "    new_train[2] = train.groupby(['session_id'])['d_time'].quantile(q=0.5)\n",
    "    new_train[3] = train.groupby(['session_id'])['d_time'].quantile(q=0.65)\n",
    "    new_train[4] = train.groupby(['session_id'])['hover_duration'].agg('mean')\n",
    "    new_train[5] = train.groupby(['session_id'])['hover_duration'].agg('std')    \n",
    "    new_train[6] = new_train[10].apply(lambda x: int(str(x)[:2])).astype(np.uint8) # \"year\"\n",
    "    new_train[7] = new_train[10].apply(lambda x: int(str(x)[2:4])+1).astype(np.uint8) # \"month\"\n",
    "    new_train[8] = new_train[10].apply(lambda x: int(str(x)[4:6])).astype(np.uint8) # \"day\"\n",
    "    new_train[9] = new_train[10].apply(lambda x: int(str(x)[6:8])).astype(np.uint8) + new_train[10].apply(lambda x: int(str(x)[8:10])).astype(np.uint8)/60\n",
    "    new_train[10] = 0\n",
    "    new_train = new_train.fillna(-1)\n",
    "    \n",
    "    return new_train"
   ]
  },
  {
   "cell_type": "code",
   "execution_count": 7,
   "id": "b7f48981",
   "metadata": {
    "execution": {
     "iopub.execute_input": "2023-06-29T09:33:47.170826Z",
     "iopub.status.busy": "2023-06-29T09:33:47.170115Z",
     "iopub.status.idle": "2023-06-29T09:33:47.179491Z",
     "shell.execute_reply": "2023-06-29T09:33:47.178590Z"
    },
    "papermill": {
     "duration": 0.022303,
     "end_time": "2023-06-29T09:33:47.181787",
     "exception": false,
     "start_time": "2023-06-29T09:33:47.159484",
     "status": "completed"
    },
    "tags": []
   },
   "outputs": [],
   "source": [
    "def feature_next_t(row_f, new_train, train, gran_1, gran_2, i):\n",
    "    global kol_col\n",
    "    kol_col +=1\n",
    "    col1 = row_f['col1']\n",
    "    val1 = row_f['val1']\n",
    "    maska = (train[col1] == val1)\n",
    "    if row_f['kol_col'] == 1:       \n",
    "        new_train[kol_col] = train[maska].groupby(['session_id'])['delt_time_next'].sum()\n",
    "        if gran_1:\n",
    "            kol_col +=1\n",
    "            new_train[kol_col] = train[maska].groupby(['session_id'])['delt_time'].mean()\n",
    "        if gran_2:\n",
    "            kol_col +=1\n",
    "            new_train[kol_col] = train[maska].groupby(['session_id'])['index'].count()          \n",
    "    elif row_f['kol_col'] == 2: \n",
    "        col2 = row_f['col2']\n",
    "        val2 = row_f['val2']\n",
    "        maska = maska & (train[col2] == val2)        \n",
    "        new_train[kol_col] = train[maska].groupby(['session_id'])['delt_time_next'].sum()\n",
    "        if gran_1:\n",
    "            kol_col +=1\n",
    "            new_train[kol_col] = train[maska].groupby(['session_id'])['delt_time'].mean()\n",
    "        if gran_2:\n",
    "            kol_col +=1\n",
    "            new_train[kol_col] = train[maska].groupby(['session_id'])['index'].count()\n",
    "    return new_train"
   ]
  },
  {
   "cell_type": "code",
   "execution_count": 8,
   "id": "783e8686",
   "metadata": {
    "execution": {
     "iopub.execute_input": "2023-06-29T09:33:47.202129Z",
     "iopub.status.busy": "2023-06-29T09:33:47.201467Z",
     "iopub.status.idle": "2023-06-29T09:33:47.210046Z",
     "shell.execute_reply": "2023-06-29T09:33:47.209077Z"
    },
    "papermill": {
     "duration": 0.021026,
     "end_time": "2023-06-29T09:33:47.212158",
     "exception": false,
     "start_time": "2023-06-29T09:33:47.191132",
     "status": "completed"
    },
    "tags": []
   },
   "outputs": [],
   "source": [
    "def feature_next_t_otvet(row_f, new_train, train, gran_1, gran_2, i):\n",
    "    global kol_col\n",
    "    kol_col +=1\n",
    "    col1 = row_f['col1']\n",
    "    val1 = row_f['val1']\n",
    "    maska = (train[col1] == val1)\n",
    "    if row_f['kol_col'] == 1:      \n",
    "        new_train[kol_col] = train[maska]['delt_time_next'].sum()\n",
    "        if gran_1:\n",
    "            kol_col +=1\n",
    "            new_train[kol_col] = train[maska]['delt_time'].mean()\n",
    "        if gran_2:\n",
    "            kol_col +=1\n",
    "            new_train[kol_col] = train[maska]['index'].count()          \n",
    "    elif row_f['kol_col'] == 2: \n",
    "        col2 = row_f['col2']\n",
    "        val2 = row_f['val2']\n",
    "        maska = maska & (train[col2] == val2)        \n",
    "        new_train[kol_col] = train[maska]['delt_time_next'].sum()\n",
    "        if gran_1:\n",
    "            kol_col +=1\n",
    "            new_train[kol_col] = train[maska]['delt_time'].mean()\n",
    "        if gran_2:\n",
    "            kol_col +=1\n",
    "            new_train[kol_col] = train[maska]['index'].count()\n",
    "    return new_train"
   ]
  },
  {
   "cell_type": "code",
   "execution_count": 9,
   "id": "7f014e65",
   "metadata": {
    "execution": {
     "iopub.execute_input": "2023-06-29T09:33:47.232725Z",
     "iopub.status.busy": "2023-06-29T09:33:47.232004Z",
     "iopub.status.idle": "2023-06-29T09:33:47.240679Z",
     "shell.execute_reply": "2023-06-29T09:33:47.239708Z"
    },
    "papermill": {
     "duration": 0.021445,
     "end_time": "2023-06-29T09:33:47.242917",
     "exception": false,
     "start_time": "2023-06-29T09:33:47.221472",
     "status": "completed"
    },
    "tags": []
   },
   "outputs": [],
   "source": [
    "def experiment_feature_next_t_otvet(row_f, new_train, train, gran_1, gran_2, i):\n",
    "    global kol_col\n",
    "    kol_col +=1\n",
    "    if row_f['kol_col'] == 1: \n",
    "        maska = train[row_f['col1']] == row_f['val1']\n",
    "        new_train[kol_col] = train[maska]['delt_time_next'].sum()\n",
    "        if gran_1:\n",
    "            kol_col +=1\n",
    "            new_train[kol_col] = train[maska]['delt_time'].mean()\n",
    "        if gran_2:\n",
    "            kol_col +=1\n",
    "            new_train[kol_col] = train[maska]['index'].count()          \n",
    "    elif row_f['kol_col'] == 2: \n",
    "        col2 = row_f['col2']\n",
    "        val2 = row_f['val2']\n",
    "        maska = (train[col1] == val1) & (train[col2] == val2)        \n",
    "        new_train[kol_col] = train[maska]['delt_time_next'].sum()\n",
    "        if gran_1:\n",
    "            kol_col +=1\n",
    "            new_train[kol_col] = train[maska]['delt_time'].mean()\n",
    "        if gran_2:\n",
    "            kol_col +=1\n",
    "            new_train[kol_col] = train[maska]['index'].count()\n",
    "    return new_train"
   ]
  },
  {
   "cell_type": "code",
   "execution_count": 10,
   "id": "52b22d9a",
   "metadata": {
    "execution": {
     "iopub.execute_input": "2023-06-29T09:33:47.263437Z",
     "iopub.status.busy": "2023-06-29T09:33:47.262756Z",
     "iopub.status.idle": "2023-06-29T09:33:47.269713Z",
     "shell.execute_reply": "2023-06-29T09:33:47.268751Z"
    },
    "papermill": {
     "duration": 0.019641,
     "end_time": "2023-06-29T09:33:47.271933",
     "exception": false,
     "start_time": "2023-06-29T09:33:47.252292",
     "status": "completed"
    },
    "tags": []
   },
   "outputs": [],
   "source": [
    "def feature_quest_otvet(new_train, train, quest, kol_f):\n",
    "    global kol_col\n",
    "    kol_col = 9\n",
    "    g1 = 0.7 \n",
    "    g2 = 0.3 \n",
    "\n",
    "    feature_q = feature_df[feature_df['quest'] == quest].copy()\n",
    "    feature_q.reset_index(drop=True, inplace=True)\n",
    "    \n",
    "    gran1 = round(kol_f * g1)\n",
    "    gran2 = round(kol_f * g2)    \n",
    "    for i in range(0, kol_f):         \n",
    "        row_f = feature_q.loc[i]\n",
    "        new_train = feature_next_t_otvet(row_f, new_train, train, i < gran1, i <  gran2, i) \n",
    "    col = [i for i in range(0,kol_col+1)]\n",
    "    return new_train[col]"
   ]
  },
  {
   "cell_type": "code",
   "execution_count": 11,
   "id": "94e7cd32",
   "metadata": {
    "execution": {
     "iopub.execute_input": "2023-06-29T09:33:47.292241Z",
     "iopub.status.busy": "2023-06-29T09:33:47.291561Z",
     "iopub.status.idle": "2023-06-29T09:33:47.297098Z",
     "shell.execute_reply": "2023-06-29T09:33:47.296347Z"
    },
    "papermill": {
     "duration": 0.017918,
     "end_time": "2023-06-29T09:33:47.299121",
     "exception": false,
     "start_time": "2023-06-29T09:33:47.281203",
     "status": "completed"
    },
    "tags": []
   },
   "outputs": [],
   "source": [
    "def feature_engineer_new(new_train, train, feature_q, kol_f):\n",
    "    g1 = 0.7 \n",
    "    g2 = 0.3 \n",
    "    gran1 = round(kol_f * g1)\n",
    "    gran2 = round(kol_f * g2)    \n",
    "    for i in range(0, kol_f): \n",
    "        row_f = feature_q.loc[i]       \n",
    "        new_train = feature_next_t(row_f, new_train, train, i < gran1, i <  gran2, i)         \n",
    "    return new_train"
   ]
  },
  {
   "cell_type": "code",
   "execution_count": 12,
   "id": "75bf5c40",
   "metadata": {
    "execution": {
     "iopub.execute_input": "2023-06-29T09:33:47.319446Z",
     "iopub.status.busy": "2023-06-29T09:33:47.318742Z",
     "iopub.status.idle": "2023-06-29T09:33:47.324255Z",
     "shell.execute_reply": "2023-06-29T09:33:47.323546Z"
    },
    "papermill": {
     "duration": 0.018082,
     "end_time": "2023-06-29T09:33:47.326367",
     "exception": false,
     "start_time": "2023-06-29T09:33:47.308285",
     "status": "completed"
    },
    "tags": []
   },
   "outputs": [],
   "source": [
    "def feature_quest(new_train, train, quest, kol_f):\n",
    "    global kol_col\n",
    "    kol_col = 9\n",
    "    feature_q = feature_df[feature_df['quest'] == quest].copy()\n",
    "    feature_q.reset_index(drop=True, inplace=True)\n",
    "    new_train = feature_engineer_new(new_train, train, feature_q, kol_f)\n",
    "    col = [i for i in range(0,kol_col+1)]\n",
    "    return new_train[col]"
   ]
  },
  {
   "cell_type": "markdown",
   "id": "02cb8bb3",
   "metadata": {
    "papermill": {
     "duration": 0.008703,
     "end_time": "2023-06-29T09:33:47.344200",
     "exception": false,
     "start_time": "2023-06-29T09:33:47.335497",
     "status": "completed"
    },
    "tags": []
   },
   "source": [
    "## Models"
   ]
  },
  {
   "cell_type": "markdown",
   "id": "ac9ce4bc",
   "metadata": {
    "papermill": {
     "duration": 0.008665,
     "end_time": "2023-06-29T09:33:47.361875",
     "exception": false,
     "start_time": "2023-06-29T09:33:47.353210",
     "status": "completed"
    },
    "tags": []
   },
   "source": [
    "The optimal models for achieving a public score of 0.701 and the public bronze medal were CatBoost with 318 trees and a depth of 6, and XGBoost with 313 trees and a depth of 6.  \n",
    "\n",
    "We trained CatBoost in another notebook, so we will load its weights later. However, we will train XGBoost directly here."
   ]
  },
  {
   "cell_type": "code",
   "execution_count": 13,
   "id": "eecd41b1",
   "metadata": {
    "execution": {
     "iopub.execute_input": "2023-06-29T09:33:47.381899Z",
     "iopub.status.busy": "2023-06-29T09:33:47.381220Z",
     "iopub.status.idle": "2023-06-29T09:33:47.388464Z",
     "shell.execute_reply": "2023-06-29T09:33:47.387719Z"
    },
    "papermill": {
     "duration": 0.019546,
     "end_time": "2023-06-29T09:33:47.390432",
     "exception": false,
     "start_time": "2023-06-29T09:33:47.370886",
     "status": "completed"
    },
    "tags": []
   },
   "outputs": [],
   "source": [
    "def create_model(old_train, quests, models, list_kol_f):\n",
    "\n",
    "    kol_quest = len(quests)\n",
    "    \n",
    "    # Iterate through questions\n",
    "    for q in quests:\n",
    "        print('### quest ', q, end='')\n",
    "        new_train = feature_engineer(old_train, list_kol_f[q])\n",
    "        train_x = feature_quest(new_train, old_train, q, list_kol_f[q])\n",
    "        print(' ---- ', 'train_q.shape = ', train_x.shape)\n",
    "\n",
    "        # TRAIN DATA\n",
    "        train_users = train_x.index.values\n",
    "        train_y = targets.loc[targets.q == q].set_index('session').loc[train_users]\n",
    "    \n",
    "     \n",
    "        # XGBoost model\n",
    "        xgb_model = XGBClassifier(       \n",
    "            learning_rate = 0.045,\n",
    "            max_depth = 6,\n",
    "            n_estimators = 313        \n",
    "        )\n",
    "        \n",
    "        xgb_model.fit(train_x.astype('float32'), train_y['correct'])\n",
    "        models[f'{q}_xgboost'] = xgb_model\n",
    "\n",
    "    print('***')\n",
    "\n",
    "    return models"
   ]
  },
  {
   "cell_type": "markdown",
   "id": "b9dd9dac",
   "metadata": {
    "papermill": {
     "duration": 0.008681,
     "end_time": "2023-06-29T09:33:47.408294",
     "exception": false,
     "start_time": "2023-06-29T09:33:47.399613",
     "status": "completed"
    },
    "tags": []
   },
   "source": [
    "I see that in the public notebooks, the best threshold was found to be 0.63.  \n",
    "\n",
    "I experimented with different thresholds and found that 0.623 is actually more optimal and provides better predictions on the public test set."
   ]
  },
  {
   "cell_type": "code",
   "execution_count": 14,
   "id": "e2813580",
   "metadata": {
    "execution": {
     "iopub.execute_input": "2023-06-29T09:33:47.428281Z",
     "iopub.status.busy": "2023-06-29T09:33:47.427594Z",
     "iopub.status.idle": "2023-06-29T09:33:47.431712Z",
     "shell.execute_reply": "2023-06-29T09:33:47.430989Z"
    },
    "papermill": {
     "duration": 0.016352,
     "end_time": "2023-06-29T09:33:47.433669",
     "exception": false,
     "start_time": "2023-06-29T09:33:47.417317",
     "status": "completed"
    },
    "tags": []
   },
   "outputs": [],
   "source": [
    "models = {}\n",
    "best_threshold = 0.623"
   ]
  },
  {
   "cell_type": "code",
   "execution_count": 15,
   "id": "e74219a4",
   "metadata": {
    "execution": {
     "iopub.execute_input": "2023-06-29T09:33:47.453954Z",
     "iopub.status.busy": "2023-06-29T09:33:47.452930Z",
     "iopub.status.idle": "2023-06-29T09:33:47.457939Z",
     "shell.execute_reply": "2023-06-29T09:33:47.457241Z"
    },
    "papermill": {
     "duration": 0.017019,
     "end_time": "2023-06-29T09:33:47.459888",
     "exception": false,
     "start_time": "2023-06-29T09:33:47.442869",
     "status": "completed"
    },
    "tags": []
   },
   "outputs": [],
   "source": [
    "list_kol_f = {\n",
    "    1:140,3:110,\n",
    "    4:120, 5:220, 6:130, 7:110, 8:110, 9:100, 10:140, 11:120,\n",
    "    14: 160, 15:160, 16:130, 17:140             \n",
    "             }"
   ]
  },
  {
   "cell_type": "markdown",
   "id": "9ba9c0aa",
   "metadata": {
    "papermill": {
     "duration": 0.008774,
     "end_time": "2023-06-29T09:33:47.477697",
     "exception": false,
     "start_time": "2023-06-29T09:33:47.468923",
     "status": "completed"
    },
    "tags": []
   },
   "source": [
    "## XGboost training"
   ]
  },
  {
   "cell_type": "code",
   "execution_count": 16,
   "id": "fbf6482e",
   "metadata": {
    "execution": {
     "iopub.execute_input": "2023-06-29T09:33:47.499234Z",
     "iopub.status.busy": "2023-06-29T09:33:47.498202Z",
     "iopub.status.idle": "2023-06-29T09:40:05.130315Z",
     "shell.execute_reply": "2023-06-29T09:40:05.129225Z"
    },
    "papermill": {
     "duration": 377.654658,
     "end_time": "2023-06-29T09:40:05.142775",
     "exception": false,
     "start_time": "2023-06-29T09:33:47.488117",
     "status": "completed"
    },
    "tags": []
   },
   "outputs": [
    {
     "name": "stdout",
     "output_type": "stream",
     "text": [
      "### quest  1 ----  train_q.shape =  (23562, 290)\n",
      "### quest  3 ----  train_q.shape =  (23562, 230)\n",
      "***\n"
     ]
    }
   ],
   "source": [
    "df0_4 = pd.read_csv('/kaggle/input/featur/train_0_4t.csv', dtype=dtypes) \n",
    "kol_lvl = (df0_4 .groupby(['session_id'])['level'].agg('nunique') < 5)\n",
    "list_session = kol_lvl[kol_lvl].index\n",
    "df0_4  = df0_4 [~df0_4 ['session_id'].isin(list_session)]\n",
    "df0_4 = delt_time_def(df0_4)\n",
    "\n",
    "quests_0_4 = [1, 3] \n",
    "\n",
    "models = create_model(df0_4, quests_0_4, models, list_kol_f)\n",
    "del df0_4"
   ]
  },
  {
   "cell_type": "code",
   "execution_count": 17,
   "id": "556aa269",
   "metadata": {
    "execution": {
     "iopub.execute_input": "2023-06-29T09:40:05.164646Z",
     "iopub.status.busy": "2023-06-29T09:40:05.163312Z",
     "iopub.status.idle": "2023-06-29T10:05:17.318957Z",
     "shell.execute_reply": "2023-06-29T10:05:17.318053Z"
    },
    "papermill": {
     "duration": 1512.178705,
     "end_time": "2023-06-29T10:05:17.330999",
     "exception": false,
     "start_time": "2023-06-29T09:40:05.152294",
     "status": "completed"
    },
    "tags": []
   },
   "outputs": [
    {
     "name": "stdout",
     "output_type": "stream",
     "text": [
      "### quest  4 ----  train_q.shape =  (23561, 250)\n",
      "### quest  5 ----  train_q.shape =  (23561, 450)\n",
      "### quest  6 ----  train_q.shape =  (23561, 270)\n",
      "### quest  7 ----  train_q.shape =  (23561, 230)\n",
      "### quest  8 ----  train_q.shape =  (23561, 230)\n",
      "### quest  9 ----  train_q.shape =  (23561, 210)\n",
      "### quest  10 ----  train_q.shape =  (23561, 290)\n",
      "### quest  11 ----  train_q.shape =  (23561, 250)\n",
      "***\n"
     ]
    }
   ],
   "source": [
    "df5_12 = pd.read_csv('/kaggle/input/featur/train_5_12t.csv', dtype=dtypes)\n",
    "kol_lvl = (df5_12.groupby(['session_id'])['level'].agg('nunique') < 8)\n",
    "list_session = kol_lvl[kol_lvl].index\n",
    "df5_12 = df5_12[~df5_12['session_id'].isin(list_session)]\n",
    "df5_12 = delt_time_def(df5_12)\n",
    "quests_5_12 = [4, 5, 6, 7, 8, 9, 10, 11] \n",
    "\n",
    "models = create_model(df5_12, quests_5_12, models, list_kol_f)\n",
    "del df5_12"
   ]
  },
  {
   "cell_type": "code",
   "execution_count": 18,
   "id": "39b2e862",
   "metadata": {
    "execution": {
     "iopub.execute_input": "2023-06-29T10:05:17.354398Z",
     "iopub.status.busy": "2023-06-29T10:05:17.353479Z",
     "iopub.status.idle": "2023-06-29T10:20:27.090454Z",
     "shell.execute_reply": "2023-06-29T10:20:27.089496Z"
    },
    "papermill": {
     "duration": 909.760617,
     "end_time": "2023-06-29T10:20:27.102227",
     "exception": false,
     "start_time": "2023-06-29T10:05:17.341610",
     "status": "completed"
    },
    "tags": []
   },
   "outputs": [
    {
     "name": "stdout",
     "output_type": "stream",
     "text": [
      "### quest  14 ----  train_q.shape =  (22986, 330)\n",
      "### quest  15 ----  train_q.shape =  (22986, 330)\n",
      "### quest  16 ----  train_q.shape =  (22986, 270)\n",
      "### quest  17 ----  train_q.shape =  (22986, 290)\n",
      "***\n"
     ]
    }
   ],
   "source": [
    "df13_22 = pd.read_csv('/kaggle/input/featur/train_13_22t.csv', dtype=dtypes) \n",
    "kol_lvl = (df13_22 .groupby(['session_id'])['level'].agg('nunique') < 10)\n",
    "list_session = kol_lvl[kol_lvl].index\n",
    "df13_22  = df13_22 [~df13_22 ['session_id'].isin(list_session)]\n",
    "df13_22 = delt_time_def(df13_22)\n",
    "\n",
    "quests_13_22 = [14, 15, 16, 17] \n",
    "\n",
    "models = create_model(df13_22, quests_13_22, models, list_kol_f)\n",
    "del df13_22"
   ]
  },
  {
   "cell_type": "markdown",
   "id": "f01dcfff",
   "metadata": {
    "papermill": {
     "duration": 0.010848,
     "end_time": "2023-06-29T10:20:27.124337",
     "exception": false,
     "start_time": "2023-06-29T10:20:27.113489",
     "status": "completed"
    },
    "tags": []
   },
   "source": [
    "Saving the xgboost models."
   ]
  },
  {
   "cell_type": "code",
   "execution_count": 19,
   "id": "df27d4de",
   "metadata": {
    "execution": {
     "iopub.execute_input": "2023-06-29T10:20:27.148903Z",
     "iopub.status.busy": "2023-06-29T10:20:27.148185Z",
     "iopub.status.idle": "2023-06-29T10:20:27.199871Z",
     "shell.execute_reply": "2023-06-29T10:20:27.198886Z"
    },
    "papermill": {
     "duration": 0.066941,
     "end_time": "2023-06-29T10:20:27.202489",
     "exception": false,
     "start_time": "2023-06-29T10:20:27.135548",
     "status": "completed"
    },
    "tags": []
   },
   "outputs": [],
   "source": [
    "for q in quests_0_4 + quests_5_12 + quests_13_22:\n",
    "    models[str(q)+\"_xgboost\"].save_model(f'xgb_model_{q}.bin')"
   ]
  },
  {
   "cell_type": "markdown",
   "id": "92b88ccf",
   "metadata": {
    "papermill": {
     "duration": 0.010971,
     "end_time": "2023-06-29T10:20:27.225131",
     "exception": false,
     "start_time": "2023-06-29T10:20:27.214160",
     "status": "completed"
    },
    "tags": []
   },
   "source": [
    "Loading catboost models from kaggle dataset folder."
   ]
  },
  {
   "cell_type": "code",
   "execution_count": 20,
   "id": "a1cdfe57",
   "metadata": {
    "execution": {
     "iopub.execute_input": "2023-06-29T10:20:27.250412Z",
     "iopub.status.busy": "2023-06-29T10:20:27.249633Z",
     "iopub.status.idle": "2023-06-29T10:20:27.454661Z",
     "shell.execute_reply": "2023-06-29T10:20:27.453747Z"
    },
    "papermill": {
     "duration": 0.220235,
     "end_time": "2023-06-29T10:20:27.457081",
     "exception": false,
     "start_time": "2023-06-29T10:20:27.236846",
     "status": "completed"
    },
    "tags": []
   },
   "outputs": [],
   "source": [
    "import joblib\n",
    "dir = '/kaggle/input/catboost-318'\n",
    "for q in quests_0_4 + quests_5_12 + quests_13_22:\n",
    "    for i in [\"_catboost\",\"_xgboost\"]:\n",
    "        if i == \"_catboost\":\n",
    "            models[f'{str(q)+i}'] = CatBoostClassifier().load_model(dir+f'/cat_model_{q}.bin')"
   ]
  },
  {
   "cell_type": "code",
   "execution_count": 21,
   "id": "6b743d99",
   "metadata": {
    "execution": {
     "iopub.execute_input": "2023-06-29T10:20:27.481460Z",
     "iopub.status.busy": "2023-06-29T10:20:27.480734Z",
     "iopub.status.idle": "2023-06-29T10:20:27.546329Z",
     "shell.execute_reply": "2023-06-29T10:20:27.545476Z"
    },
    "papermill": {
     "duration": 0.080302,
     "end_time": "2023-06-29T10:20:27.548593",
     "exception": false,
     "start_time": "2023-06-29T10:20:27.468291",
     "status": "completed"
    },
    "tags": []
   },
   "outputs": [
    {
     "data": {
      "text/plain": [
       "{'1_xgboost': XGBClassifier(base_score=0.5, booster='gbtree', callbacks=None,\n",
       "               colsample_bylevel=1, colsample_bynode=1, colsample_bytree=1,\n",
       "               early_stopping_rounds=None, enable_categorical=False,\n",
       "               eval_metric=None, gamma=0, gpu_id=-1, grow_policy='depthwise',\n",
       "               importance_type=None, interaction_constraints='',\n",
       "               learning_rate=0.045, max_bin=256, max_cat_to_onehot=4,\n",
       "               max_delta_step=0, max_depth=6, max_leaves=0, min_child_weight=1,\n",
       "               missing=nan, monotone_constraints='()', n_estimators=313,\n",
       "               n_jobs=0, num_parallel_tree=1, predictor='auto', random_state=0,\n",
       "               reg_alpha=0, reg_lambda=1, ...),\n",
       " '3_xgboost': XGBClassifier(base_score=0.5, booster='gbtree', callbacks=None,\n",
       "               colsample_bylevel=1, colsample_bynode=1, colsample_bytree=1,\n",
       "               early_stopping_rounds=None, enable_categorical=False,\n",
       "               eval_metric=None, gamma=0, gpu_id=-1, grow_policy='depthwise',\n",
       "               importance_type=None, interaction_constraints='',\n",
       "               learning_rate=0.045, max_bin=256, max_cat_to_onehot=4,\n",
       "               max_delta_step=0, max_depth=6, max_leaves=0, min_child_weight=1,\n",
       "               missing=nan, monotone_constraints='()', n_estimators=313,\n",
       "               n_jobs=0, num_parallel_tree=1, predictor='auto', random_state=0,\n",
       "               reg_alpha=0, reg_lambda=1, ...),\n",
       " '4_xgboost': XGBClassifier(base_score=0.5, booster='gbtree', callbacks=None,\n",
       "               colsample_bylevel=1, colsample_bynode=1, colsample_bytree=1,\n",
       "               early_stopping_rounds=None, enable_categorical=False,\n",
       "               eval_metric=None, gamma=0, gpu_id=-1, grow_policy='depthwise',\n",
       "               importance_type=None, interaction_constraints='',\n",
       "               learning_rate=0.045, max_bin=256, max_cat_to_onehot=4,\n",
       "               max_delta_step=0, max_depth=6, max_leaves=0, min_child_weight=1,\n",
       "               missing=nan, monotone_constraints='()', n_estimators=313,\n",
       "               n_jobs=0, num_parallel_tree=1, predictor='auto', random_state=0,\n",
       "               reg_alpha=0, reg_lambda=1, ...),\n",
       " '5_xgboost': XGBClassifier(base_score=0.5, booster='gbtree', callbacks=None,\n",
       "               colsample_bylevel=1, colsample_bynode=1, colsample_bytree=1,\n",
       "               early_stopping_rounds=None, enable_categorical=False,\n",
       "               eval_metric=None, gamma=0, gpu_id=-1, grow_policy='depthwise',\n",
       "               importance_type=None, interaction_constraints='',\n",
       "               learning_rate=0.045, max_bin=256, max_cat_to_onehot=4,\n",
       "               max_delta_step=0, max_depth=6, max_leaves=0, min_child_weight=1,\n",
       "               missing=nan, monotone_constraints='()', n_estimators=313,\n",
       "               n_jobs=0, num_parallel_tree=1, predictor='auto', random_state=0,\n",
       "               reg_alpha=0, reg_lambda=1, ...),\n",
       " '6_xgboost': XGBClassifier(base_score=0.5, booster='gbtree', callbacks=None,\n",
       "               colsample_bylevel=1, colsample_bynode=1, colsample_bytree=1,\n",
       "               early_stopping_rounds=None, enable_categorical=False,\n",
       "               eval_metric=None, gamma=0, gpu_id=-1, grow_policy='depthwise',\n",
       "               importance_type=None, interaction_constraints='',\n",
       "               learning_rate=0.045, max_bin=256, max_cat_to_onehot=4,\n",
       "               max_delta_step=0, max_depth=6, max_leaves=0, min_child_weight=1,\n",
       "               missing=nan, monotone_constraints='()', n_estimators=313,\n",
       "               n_jobs=0, num_parallel_tree=1, predictor='auto', random_state=0,\n",
       "               reg_alpha=0, reg_lambda=1, ...),\n",
       " '7_xgboost': XGBClassifier(base_score=0.5, booster='gbtree', callbacks=None,\n",
       "               colsample_bylevel=1, colsample_bynode=1, colsample_bytree=1,\n",
       "               early_stopping_rounds=None, enable_categorical=False,\n",
       "               eval_metric=None, gamma=0, gpu_id=-1, grow_policy='depthwise',\n",
       "               importance_type=None, interaction_constraints='',\n",
       "               learning_rate=0.045, max_bin=256, max_cat_to_onehot=4,\n",
       "               max_delta_step=0, max_depth=6, max_leaves=0, min_child_weight=1,\n",
       "               missing=nan, monotone_constraints='()', n_estimators=313,\n",
       "               n_jobs=0, num_parallel_tree=1, predictor='auto', random_state=0,\n",
       "               reg_alpha=0, reg_lambda=1, ...),\n",
       " '8_xgboost': XGBClassifier(base_score=0.5, booster='gbtree', callbacks=None,\n",
       "               colsample_bylevel=1, colsample_bynode=1, colsample_bytree=1,\n",
       "               early_stopping_rounds=None, enable_categorical=False,\n",
       "               eval_metric=None, gamma=0, gpu_id=-1, grow_policy='depthwise',\n",
       "               importance_type=None, interaction_constraints='',\n",
       "               learning_rate=0.045, max_bin=256, max_cat_to_onehot=4,\n",
       "               max_delta_step=0, max_depth=6, max_leaves=0, min_child_weight=1,\n",
       "               missing=nan, monotone_constraints='()', n_estimators=313,\n",
       "               n_jobs=0, num_parallel_tree=1, predictor='auto', random_state=0,\n",
       "               reg_alpha=0, reg_lambda=1, ...),\n",
       " '9_xgboost': XGBClassifier(base_score=0.5, booster='gbtree', callbacks=None,\n",
       "               colsample_bylevel=1, colsample_bynode=1, colsample_bytree=1,\n",
       "               early_stopping_rounds=None, enable_categorical=False,\n",
       "               eval_metric=None, gamma=0, gpu_id=-1, grow_policy='depthwise',\n",
       "               importance_type=None, interaction_constraints='',\n",
       "               learning_rate=0.045, max_bin=256, max_cat_to_onehot=4,\n",
       "               max_delta_step=0, max_depth=6, max_leaves=0, min_child_weight=1,\n",
       "               missing=nan, monotone_constraints='()', n_estimators=313,\n",
       "               n_jobs=0, num_parallel_tree=1, predictor='auto', random_state=0,\n",
       "               reg_alpha=0, reg_lambda=1, ...),\n",
       " '10_xgboost': XGBClassifier(base_score=0.5, booster='gbtree', callbacks=None,\n",
       "               colsample_bylevel=1, colsample_bynode=1, colsample_bytree=1,\n",
       "               early_stopping_rounds=None, enable_categorical=False,\n",
       "               eval_metric=None, gamma=0, gpu_id=-1, grow_policy='depthwise',\n",
       "               importance_type=None, interaction_constraints='',\n",
       "               learning_rate=0.045, max_bin=256, max_cat_to_onehot=4,\n",
       "               max_delta_step=0, max_depth=6, max_leaves=0, min_child_weight=1,\n",
       "               missing=nan, monotone_constraints='()', n_estimators=313,\n",
       "               n_jobs=0, num_parallel_tree=1, predictor='auto', random_state=0,\n",
       "               reg_alpha=0, reg_lambda=1, ...),\n",
       " '11_xgboost': XGBClassifier(base_score=0.5, booster='gbtree', callbacks=None,\n",
       "               colsample_bylevel=1, colsample_bynode=1, colsample_bytree=1,\n",
       "               early_stopping_rounds=None, enable_categorical=False,\n",
       "               eval_metric=None, gamma=0, gpu_id=-1, grow_policy='depthwise',\n",
       "               importance_type=None, interaction_constraints='',\n",
       "               learning_rate=0.045, max_bin=256, max_cat_to_onehot=4,\n",
       "               max_delta_step=0, max_depth=6, max_leaves=0, min_child_weight=1,\n",
       "               missing=nan, monotone_constraints='()', n_estimators=313,\n",
       "               n_jobs=0, num_parallel_tree=1, predictor='auto', random_state=0,\n",
       "               reg_alpha=0, reg_lambda=1, ...),\n",
       " '14_xgboost': XGBClassifier(base_score=0.5, booster='gbtree', callbacks=None,\n",
       "               colsample_bylevel=1, colsample_bynode=1, colsample_bytree=1,\n",
       "               early_stopping_rounds=None, enable_categorical=False,\n",
       "               eval_metric=None, gamma=0, gpu_id=-1, grow_policy='depthwise',\n",
       "               importance_type=None, interaction_constraints='',\n",
       "               learning_rate=0.045, max_bin=256, max_cat_to_onehot=4,\n",
       "               max_delta_step=0, max_depth=6, max_leaves=0, min_child_weight=1,\n",
       "               missing=nan, monotone_constraints='()', n_estimators=313,\n",
       "               n_jobs=0, num_parallel_tree=1, predictor='auto', random_state=0,\n",
       "               reg_alpha=0, reg_lambda=1, ...),\n",
       " '15_xgboost': XGBClassifier(base_score=0.5, booster='gbtree', callbacks=None,\n",
       "               colsample_bylevel=1, colsample_bynode=1, colsample_bytree=1,\n",
       "               early_stopping_rounds=None, enable_categorical=False,\n",
       "               eval_metric=None, gamma=0, gpu_id=-1, grow_policy='depthwise',\n",
       "               importance_type=None, interaction_constraints='',\n",
       "               learning_rate=0.045, max_bin=256, max_cat_to_onehot=4,\n",
       "               max_delta_step=0, max_depth=6, max_leaves=0, min_child_weight=1,\n",
       "               missing=nan, monotone_constraints='()', n_estimators=313,\n",
       "               n_jobs=0, num_parallel_tree=1, predictor='auto', random_state=0,\n",
       "               reg_alpha=0, reg_lambda=1, ...),\n",
       " '16_xgboost': XGBClassifier(base_score=0.5, booster='gbtree', callbacks=None,\n",
       "               colsample_bylevel=1, colsample_bynode=1, colsample_bytree=1,\n",
       "               early_stopping_rounds=None, enable_categorical=False,\n",
       "               eval_metric=None, gamma=0, gpu_id=-1, grow_policy='depthwise',\n",
       "               importance_type=None, interaction_constraints='',\n",
       "               learning_rate=0.045, max_bin=256, max_cat_to_onehot=4,\n",
       "               max_delta_step=0, max_depth=6, max_leaves=0, min_child_weight=1,\n",
       "               missing=nan, monotone_constraints='()', n_estimators=313,\n",
       "               n_jobs=0, num_parallel_tree=1, predictor='auto', random_state=0,\n",
       "               reg_alpha=0, reg_lambda=1, ...),\n",
       " '17_xgboost': XGBClassifier(base_score=0.5, booster='gbtree', callbacks=None,\n",
       "               colsample_bylevel=1, colsample_bynode=1, colsample_bytree=1,\n",
       "               early_stopping_rounds=None, enable_categorical=False,\n",
       "               eval_metric=None, gamma=0, gpu_id=-1, grow_policy='depthwise',\n",
       "               importance_type=None, interaction_constraints='',\n",
       "               learning_rate=0.045, max_bin=256, max_cat_to_onehot=4,\n",
       "               max_delta_step=0, max_depth=6, max_leaves=0, min_child_weight=1,\n",
       "               missing=nan, monotone_constraints='()', n_estimators=313,\n",
       "               n_jobs=0, num_parallel_tree=1, predictor='auto', random_state=0,\n",
       "               reg_alpha=0, reg_lambda=1, ...),\n",
       " '1_catboost': <catboost.core.CatBoostClassifier at 0x7ac37cde9b10>,\n",
       " '3_catboost': <catboost.core.CatBoostClassifier at 0x7ac37d2f7790>,\n",
       " '4_catboost': <catboost.core.CatBoostClassifier at 0x7ac37cde9d10>,\n",
       " '5_catboost': <catboost.core.CatBoostClassifier at 0x7ac37d2f7d10>,\n",
       " '6_catboost': <catboost.core.CatBoostClassifier at 0x7ac37d41b310>,\n",
       " '7_catboost': <catboost.core.CatBoostClassifier at 0x7ac37d2f7990>,\n",
       " '8_catboost': <catboost.core.CatBoostClassifier at 0x7ac37cde96d0>,\n",
       " '9_catboost': <catboost.core.CatBoostClassifier at 0x7ac37d2f7d90>,\n",
       " '10_catboost': <catboost.core.CatBoostClassifier at 0x7ac37cde9310>,\n",
       " '11_catboost': <catboost.core.CatBoostClassifier at 0x7ac37d2f72d0>,\n",
       " '14_catboost': <catboost.core.CatBoostClassifier at 0x7ac37cef11d0>,\n",
       " '15_catboost': <catboost.core.CatBoostClassifier at 0x7ac37d2f7590>,\n",
       " '16_catboost': <catboost.core.CatBoostClassifier at 0x7ac37cef1ed0>,\n",
       " '17_catboost': <catboost.core.CatBoostClassifier at 0x7ac37cebee50>}"
      ]
     },
     "execution_count": 21,
     "metadata": {},
     "output_type": "execute_result"
    }
   ],
   "source": [
    "models"
   ]
  },
  {
   "cell_type": "markdown",
   "id": "769a90f6",
   "metadata": {
    "papermill": {
     "duration": 0.011355,
     "end_time": "2023-06-29T10:20:27.571600",
     "exception": false,
     "start_time": "2023-06-29T10:20:27.560245",
     "status": "completed"
    },
    "tags": []
   },
   "source": [
    "## Infer Test Data"
   ]
  },
  {
   "cell_type": "code",
   "execution_count": 22,
   "id": "2b3c308f",
   "metadata": {
    "execution": {
     "iopub.execute_input": "2023-06-29T10:20:27.596605Z",
     "iopub.status.busy": "2023-06-29T10:20:27.596202Z",
     "iopub.status.idle": "2023-06-29T10:20:27.630390Z",
     "shell.execute_reply": "2023-06-29T10:20:27.629291Z"
    },
    "papermill": {
     "duration": 0.049915,
     "end_time": "2023-06-29T10:20:27.633061",
     "exception": false,
     "start_time": "2023-06-29T10:20:27.583146",
     "status": "completed"
    },
    "tags": []
   },
   "outputs": [],
   "source": [
    "import jo_wilder\n",
    "\n",
    "try:\n",
    "    jo_wilder.make_env.__called__ = False\n",
    "    env.__called__ = False\n",
    "    type(env)._state = type(type(env)._state).__dict__['INIT']\n",
    "except:\n",
    "    pass\n",
    "\n",
    "env = jo_wilder.make_env()\n",
    "iter_test = env.iter_test()    "
   ]
  },
  {
   "cell_type": "markdown",
   "id": "b7916d09",
   "metadata": {
    "papermill": {
     "duration": 0.011387,
     "end_time": "2023-06-29T10:20:27.657038",
     "exception": false,
     "start_time": "2023-06-29T10:20:27.645651",
     "status": "completed"
    },
    "tags": []
   },
   "source": [
    "## Making predictions"
   ]
  },
  {
   "cell_type": "markdown",
   "id": "5958efd1",
   "metadata": {
    "papermill": {
     "duration": 0.011199,
     "end_time": "2023-06-29T10:20:27.679989",
     "exception": false,
     "start_time": "2023-06-29T10:20:27.668790",
     "status": "completed"
    },
    "tags": []
   },
   "source": [
    "Here I experimented with different weights for the models. \n",
    "\n",
    "Since the CatBoost score separately was 0.700, adding 3% weight to XGBoost was the perfect complement, resulting in my highest public leaderboard score of 0.701.  \n",
    "\n",
    "For the remaining 2 submissions in the competition, I used Stratified K-fold with 5 folds and a combination of CatBoost, XGBoost, and MLP with a lower score than in this notebook (both on the public and private leaderboards)."
   ]
  },
  {
   "cell_type": "code",
   "execution_count": 23,
   "id": "d2b1ba04",
   "metadata": {
    "execution": {
     "iopub.execute_input": "2023-06-29T10:20:27.705832Z",
     "iopub.status.busy": "2023-06-29T10:20:27.704737Z",
     "iopub.status.idle": "2023-06-29T10:20:39.429970Z",
     "shell.execute_reply": "2023-06-29T10:20:39.429035Z"
    },
    "papermill": {
     "duration": 11.740637,
     "end_time": "2023-06-29T10:20:39.432672",
     "exception": false,
     "start_time": "2023-06-29T10:20:27.692035",
     "status": "completed"
    },
    "tags": []
   },
   "outputs": [
    {
     "name": "stdout",
     "output_type": "stream",
     "text": [
      "This version of the API is not optimized and should not be used to estimate the runtime of your code on the hidden test set.\n"
     ]
    }
   ],
   "source": [
    "import time\n",
    "g_end4 = 0\n",
    "g_end5 = 0\n",
    "\n",
    "list_q = {'0-4':quests_0_4, '5-12':quests_5_12, '13-22':quests_13_22}\n",
    "for (test, sam_sub) in iter_test:\n",
    "    sam_sub['question'] = [int(label.split('_')[1][1:]) for label in sam_sub['session_id']]    \n",
    "    grp = test.level_group.values[0]   \n",
    "    sam_sub['correct'] = 1\n",
    "    sam_sub.loc[sam_sub.question.isin([5, 8, 10, 13, 15]), 'correct'] = 0  \n",
    "    old_train = delt_time_def(test[test.level_group == grp])\n",
    "       \n",
    "    for q in list_q[grp]:\n",
    "        \n",
    "        start4 = time.time()\n",
    "        new_train = feature_engineer(old_train, list_kol_f[q])\n",
    "        new_train = feature_quest_otvet(new_train, old_train, q, list_kol_f[q])\n",
    "        \n",
    "        end4 = time.time() - start4\n",
    "        g_end4 += end4\n",
    "        \n",
    "        start5 = time.time()        \n",
    "        \n",
    "        for i in [\"_catboost\",\"_xgboost\"]:\n",
    "            clf = models[f'{str(q)+i}']\n",
    "            if i == \"_catboost\" :\n",
    "                p1 = clf.predict_proba(new_train.astype('float32'))[:,1]\n",
    "            elif i == \"_xgboost\":\n",
    "                p2 = clf.predict_proba(new_train.astype('float32'))[:,1]         \n",
    "\n",
    "        p = 0.97*p1 + 0.03*p2\n",
    "        \n",
    "        end5 = time.time() - start5\n",
    "        g_end5 += end5\n",
    "             \n",
    "        mask = sam_sub.question == q \n",
    "        x = int(p[0]>best_threshold)\n",
    "        sam_sub.loc[mask,'correct'] = x      \n",
    "           \n",
    "    sam_sub = sam_sub[['session_id', 'correct']]      \n",
    "    env.predict(sam_sub)"
   ]
  },
  {
   "cell_type": "markdown",
   "id": "d5cbfc71",
   "metadata": {
    "papermill": {
     "duration": 0.011347,
     "end_time": "2023-06-29T10:20:39.456337",
     "exception": false,
     "start_time": "2023-06-29T10:20:39.444990",
     "status": "completed"
    },
    "tags": []
   },
   "source": [
    "## Submission.csv"
   ]
  },
  {
   "cell_type": "code",
   "execution_count": 24,
   "id": "2ae7acdb",
   "metadata": {
    "execution": {
     "iopub.execute_input": "2023-06-29T10:20:39.481773Z",
     "iopub.status.busy": "2023-06-29T10:20:39.481062Z",
     "iopub.status.idle": "2023-06-29T10:20:39.495777Z",
     "shell.execute_reply": "2023-06-29T10:20:39.494989Z"
    },
    "papermill": {
     "duration": 0.029639,
     "end_time": "2023-06-29T10:20:39.497712",
     "exception": false,
     "start_time": "2023-06-29T10:20:39.468073",
     "status": "completed"
    },
    "tags": []
   },
   "outputs": [
    {
     "name": "stdout",
     "output_type": "stream",
     "text": [
      "(54, 2)\n"
     ]
    },
    {
     "data": {
      "text/html": [
       "<div>\n",
       "<style scoped>\n",
       "    .dataframe tbody tr th:only-of-type {\n",
       "        vertical-align: middle;\n",
       "    }\n",
       "\n",
       "    .dataframe tbody tr th {\n",
       "        vertical-align: top;\n",
       "    }\n",
       "\n",
       "    .dataframe thead th {\n",
       "        text-align: right;\n",
       "    }\n",
       "</style>\n",
       "<table border=\"1\" class=\"dataframe\">\n",
       "  <thead>\n",
       "    <tr style=\"text-align: right;\">\n",
       "      <th></th>\n",
       "      <th>session_id</th>\n",
       "      <th>correct</th>\n",
       "    </tr>\n",
       "  </thead>\n",
       "  <tbody>\n",
       "    <tr>\n",
       "      <th>0</th>\n",
       "      <td>20090109393214576_q1</td>\n",
       "      <td>1</td>\n",
       "    </tr>\n",
       "    <tr>\n",
       "      <th>1</th>\n",
       "      <td>20090109393214576_q2</td>\n",
       "      <td>1</td>\n",
       "    </tr>\n",
       "    <tr>\n",
       "      <th>2</th>\n",
       "      <td>20090109393214576_q3</td>\n",
       "      <td>1</td>\n",
       "    </tr>\n",
       "    <tr>\n",
       "      <th>3</th>\n",
       "      <td>20090109393214576_q4</td>\n",
       "      <td>1</td>\n",
       "    </tr>\n",
       "    <tr>\n",
       "      <th>4</th>\n",
       "      <td>20090109393214576_q5</td>\n",
       "      <td>0</td>\n",
       "    </tr>\n",
       "    <tr>\n",
       "      <th>5</th>\n",
       "      <td>20090109393214576_q6</td>\n",
       "      <td>1</td>\n",
       "    </tr>\n",
       "    <tr>\n",
       "      <th>6</th>\n",
       "      <td>20090109393214576_q7</td>\n",
       "      <td>1</td>\n",
       "    </tr>\n",
       "    <tr>\n",
       "      <th>7</th>\n",
       "      <td>20090109393214576_q8</td>\n",
       "      <td>0</td>\n",
       "    </tr>\n",
       "    <tr>\n",
       "      <th>8</th>\n",
       "      <td>20090109393214576_q9</td>\n",
       "      <td>1</td>\n",
       "    </tr>\n",
       "    <tr>\n",
       "      <th>9</th>\n",
       "      <td>20090109393214576_q10</td>\n",
       "      <td>0</td>\n",
       "    </tr>\n",
       "    <tr>\n",
       "      <th>10</th>\n",
       "      <td>20090109393214576_q11</td>\n",
       "      <td>0</td>\n",
       "    </tr>\n",
       "    <tr>\n",
       "      <th>11</th>\n",
       "      <td>20090109393214576_q12</td>\n",
       "      <td>1</td>\n",
       "    </tr>\n",
       "    <tr>\n",
       "      <th>12</th>\n",
       "      <td>20090109393214576_q13</td>\n",
       "      <td>0</td>\n",
       "    </tr>\n",
       "    <tr>\n",
       "      <th>13</th>\n",
       "      <td>20090109393214576_q14</td>\n",
       "      <td>1</td>\n",
       "    </tr>\n",
       "    <tr>\n",
       "      <th>14</th>\n",
       "      <td>20090109393214576_q15</td>\n",
       "      <td>0</td>\n",
       "    </tr>\n",
       "    <tr>\n",
       "      <th>15</th>\n",
       "      <td>20090109393214576_q16</td>\n",
       "      <td>1</td>\n",
       "    </tr>\n",
       "    <tr>\n",
       "      <th>16</th>\n",
       "      <td>20090109393214576_q17</td>\n",
       "      <td>1</td>\n",
       "    </tr>\n",
       "    <tr>\n",
       "      <th>17</th>\n",
       "      <td>20090109393214576_q18</td>\n",
       "      <td>1</td>\n",
       "    </tr>\n",
       "    <tr>\n",
       "      <th>18</th>\n",
       "      <td>20090312143683264_q1</td>\n",
       "      <td>0</td>\n",
       "    </tr>\n",
       "    <tr>\n",
       "      <th>19</th>\n",
       "      <td>20090312143683264_q2</td>\n",
       "      <td>1</td>\n",
       "    </tr>\n",
       "    <tr>\n",
       "      <th>20</th>\n",
       "      <td>20090312143683264_q3</td>\n",
       "      <td>1</td>\n",
       "    </tr>\n",
       "    <tr>\n",
       "      <th>21</th>\n",
       "      <td>20090312143683264_q4</td>\n",
       "      <td>1</td>\n",
       "    </tr>\n",
       "    <tr>\n",
       "      <th>22</th>\n",
       "      <td>20090312143683264_q5</td>\n",
       "      <td>0</td>\n",
       "    </tr>\n",
       "    <tr>\n",
       "      <th>23</th>\n",
       "      <td>20090312143683264_q6</td>\n",
       "      <td>0</td>\n",
       "    </tr>\n",
       "    <tr>\n",
       "      <th>24</th>\n",
       "      <td>20090312143683264_q7</td>\n",
       "      <td>0</td>\n",
       "    </tr>\n",
       "    <tr>\n",
       "      <th>25</th>\n",
       "      <td>20090312143683264_q8</td>\n",
       "      <td>0</td>\n",
       "    </tr>\n",
       "    <tr>\n",
       "      <th>26</th>\n",
       "      <td>20090312143683264_q9</td>\n",
       "      <td>0</td>\n",
       "    </tr>\n",
       "    <tr>\n",
       "      <th>27</th>\n",
       "      <td>20090312143683264_q10</td>\n",
       "      <td>0</td>\n",
       "    </tr>\n",
       "    <tr>\n",
       "      <th>28</th>\n",
       "      <td>20090312143683264_q11</td>\n",
       "      <td>0</td>\n",
       "    </tr>\n",
       "    <tr>\n",
       "      <th>29</th>\n",
       "      <td>20090312143683264_q12</td>\n",
       "      <td>1</td>\n",
       "    </tr>\n",
       "    <tr>\n",
       "      <th>30</th>\n",
       "      <td>20090312143683264_q13</td>\n",
       "      <td>0</td>\n",
       "    </tr>\n",
       "    <tr>\n",
       "      <th>31</th>\n",
       "      <td>20090312143683264_q14</td>\n",
       "      <td>0</td>\n",
       "    </tr>\n",
       "    <tr>\n",
       "      <th>32</th>\n",
       "      <td>20090312143683264_q15</td>\n",
       "      <td>0</td>\n",
       "    </tr>\n",
       "    <tr>\n",
       "      <th>33</th>\n",
       "      <td>20090312143683264_q16</td>\n",
       "      <td>1</td>\n",
       "    </tr>\n",
       "    <tr>\n",
       "      <th>34</th>\n",
       "      <td>20090312143683264_q17</td>\n",
       "      <td>1</td>\n",
       "    </tr>\n",
       "    <tr>\n",
       "      <th>35</th>\n",
       "      <td>20090312143683264_q18</td>\n",
       "      <td>1</td>\n",
       "    </tr>\n",
       "    <tr>\n",
       "      <th>36</th>\n",
       "      <td>20090312331414616_q1</td>\n",
       "      <td>1</td>\n",
       "    </tr>\n",
       "    <tr>\n",
       "      <th>37</th>\n",
       "      <td>20090312331414616_q2</td>\n",
       "      <td>1</td>\n",
       "    </tr>\n",
       "    <tr>\n",
       "      <th>38</th>\n",
       "      <td>20090312331414616_q3</td>\n",
       "      <td>1</td>\n",
       "    </tr>\n",
       "    <tr>\n",
       "      <th>39</th>\n",
       "      <td>20090312331414616_q4</td>\n",
       "      <td>1</td>\n",
       "    </tr>\n",
       "    <tr>\n",
       "      <th>40</th>\n",
       "      <td>20090312331414616_q5</td>\n",
       "      <td>1</td>\n",
       "    </tr>\n",
       "    <tr>\n",
       "      <th>41</th>\n",
       "      <td>20090312331414616_q6</td>\n",
       "      <td>1</td>\n",
       "    </tr>\n",
       "    <tr>\n",
       "      <th>42</th>\n",
       "      <td>20090312331414616_q7</td>\n",
       "      <td>1</td>\n",
       "    </tr>\n",
       "    <tr>\n",
       "      <th>43</th>\n",
       "      <td>20090312331414616_q8</td>\n",
       "      <td>1</td>\n",
       "    </tr>\n",
       "    <tr>\n",
       "      <th>44</th>\n",
       "      <td>20090312331414616_q9</td>\n",
       "      <td>1</td>\n",
       "    </tr>\n",
       "    <tr>\n",
       "      <th>45</th>\n",
       "      <td>20090312331414616_q10</td>\n",
       "      <td>0</td>\n",
       "    </tr>\n",
       "    <tr>\n",
       "      <th>46</th>\n",
       "      <td>20090312331414616_q11</td>\n",
       "      <td>1</td>\n",
       "    </tr>\n",
       "    <tr>\n",
       "      <th>47</th>\n",
       "      <td>20090312331414616_q12</td>\n",
       "      <td>1</td>\n",
       "    </tr>\n",
       "    <tr>\n",
       "      <th>48</th>\n",
       "      <td>20090312331414616_q13</td>\n",
       "      <td>0</td>\n",
       "    </tr>\n",
       "    <tr>\n",
       "      <th>49</th>\n",
       "      <td>20090312331414616_q14</td>\n",
       "      <td>1</td>\n",
       "    </tr>\n",
       "    <tr>\n",
       "      <th>50</th>\n",
       "      <td>20090312331414616_q15</td>\n",
       "      <td>1</td>\n",
       "    </tr>\n",
       "    <tr>\n",
       "      <th>51</th>\n",
       "      <td>20090312331414616_q16</td>\n",
       "      <td>1</td>\n",
       "    </tr>\n",
       "    <tr>\n",
       "      <th>52</th>\n",
       "      <td>20090312331414616_q17</td>\n",
       "      <td>1</td>\n",
       "    </tr>\n",
       "    <tr>\n",
       "      <th>53</th>\n",
       "      <td>20090312331414616_q18</td>\n",
       "      <td>1</td>\n",
       "    </tr>\n",
       "  </tbody>\n",
       "</table>\n",
       "</div>"
      ],
      "text/plain": [
       "               session_id  correct\n",
       "0    20090109393214576_q1        1\n",
       "1    20090109393214576_q2        1\n",
       "2    20090109393214576_q3        1\n",
       "3    20090109393214576_q4        1\n",
       "4    20090109393214576_q5        0\n",
       "5    20090109393214576_q6        1\n",
       "6    20090109393214576_q7        1\n",
       "7    20090109393214576_q8        0\n",
       "8    20090109393214576_q9        1\n",
       "9   20090109393214576_q10        0\n",
       "10  20090109393214576_q11        0\n",
       "11  20090109393214576_q12        1\n",
       "12  20090109393214576_q13        0\n",
       "13  20090109393214576_q14        1\n",
       "14  20090109393214576_q15        0\n",
       "15  20090109393214576_q16        1\n",
       "16  20090109393214576_q17        1\n",
       "17  20090109393214576_q18        1\n",
       "18   20090312143683264_q1        0\n",
       "19   20090312143683264_q2        1\n",
       "20   20090312143683264_q3        1\n",
       "21   20090312143683264_q4        1\n",
       "22   20090312143683264_q5        0\n",
       "23   20090312143683264_q6        0\n",
       "24   20090312143683264_q7        0\n",
       "25   20090312143683264_q8        0\n",
       "26   20090312143683264_q9        0\n",
       "27  20090312143683264_q10        0\n",
       "28  20090312143683264_q11        0\n",
       "29  20090312143683264_q12        1\n",
       "30  20090312143683264_q13        0\n",
       "31  20090312143683264_q14        0\n",
       "32  20090312143683264_q15        0\n",
       "33  20090312143683264_q16        1\n",
       "34  20090312143683264_q17        1\n",
       "35  20090312143683264_q18        1\n",
       "36   20090312331414616_q1        1\n",
       "37   20090312331414616_q2        1\n",
       "38   20090312331414616_q3        1\n",
       "39   20090312331414616_q4        1\n",
       "40   20090312331414616_q5        1\n",
       "41   20090312331414616_q6        1\n",
       "42   20090312331414616_q7        1\n",
       "43   20090312331414616_q8        1\n",
       "44   20090312331414616_q9        1\n",
       "45  20090312331414616_q10        0\n",
       "46  20090312331414616_q11        1\n",
       "47  20090312331414616_q12        1\n",
       "48  20090312331414616_q13        0\n",
       "49  20090312331414616_q14        1\n",
       "50  20090312331414616_q15        1\n",
       "51  20090312331414616_q16        1\n",
       "52  20090312331414616_q17        1\n",
       "53  20090312331414616_q18        1"
      ]
     },
     "execution_count": 24,
     "metadata": {},
     "output_type": "execute_result"
    }
   ],
   "source": [
    "df = pd.read_csv('submission.csv')\n",
    "print( df.shape )\n",
    "df.head(60)"
   ]
  }
 ],
 "metadata": {
  "kernelspec": {
   "display_name": "Python 3",
   "language": "python",
   "name": "python3"
  },
  "language_info": {
   "codemirror_mode": {
    "name": "ipython",
    "version": 3
   },
   "file_extension": ".py",
   "mimetype": "text/x-python",
   "name": "python",
   "nbconvert_exporter": "python",
   "pygments_lexer": "ipython3",
   "version": "3.7.12"
  },
  "papermill": {
   "default_parameters": {},
   "duration": 2825.679377,
   "end_time": "2023-06-29T10:20:40.337043",
   "environment_variables": {},
   "exception": null,
   "input_path": "__notebook__.ipynb",
   "output_path": "__notebook__.ipynb",
   "parameters": {},
   "start_time": "2023-06-29T09:33:34.657666",
   "version": "2.3.4"
  }
 },
 "nbformat": 4,
 "nbformat_minor": 5
}
